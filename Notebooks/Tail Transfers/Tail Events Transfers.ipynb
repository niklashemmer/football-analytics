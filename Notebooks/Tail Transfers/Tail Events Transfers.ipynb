{
 "cells": [
  {
   "cell_type": "code",
   "execution_count": 1700,
   "metadata": {},
   "outputs": [],
   "source": [
    "import pandas as pd \n",
    "import numpy as np \n",
    "import seaborn as sns\n",
    "import matplotlib.pyplot as plt\n",
    "from scipy.stats import stats\n",
    "import warnings\n",
    "warnings.filterwarnings(\"ignore\")\n",
    "# Show all columns of dataframe\n",
    "pd.set_option(\"display.max_columns\", None)"
   ]
  },
  {
   "cell_type": "code",
   "execution_count": 1701,
   "metadata": {},
   "outputs": [],
   "source": [
    "df = pd.read_csv(\"/Users/niklashemmer/Documents/Soccer data.csv\")"
   ]
  },
  {
   "cell_type": "code",
   "execution_count": 1702,
   "metadata": {},
   "outputs": [],
   "source": [
    "# Filter all transfers from 2009\n",
    "df = df[df[\"year\"] > 2009]"
   ]
  },
  {
   "cell_type": "code",
   "execution_count": 1703,
   "metadata": {},
   "outputs": [
    {
     "data": {
      "text/html": [
       "<div>\n",
       "<style scoped>\n",
       "    .dataframe tbody tr th:only-of-type {\n",
       "        vertical-align: middle;\n",
       "    }\n",
       "\n",
       "    .dataframe tbody tr th {\n",
       "        vertical-align: top;\n",
       "    }\n",
       "\n",
       "    .dataframe thead th {\n",
       "        text-align: right;\n",
       "    }\n",
       "</style>\n",
       "<table border=\"1\" class=\"dataframe\">\n",
       "  <thead>\n",
       "    <tr style=\"text-align: right;\">\n",
       "      <th></th>\n",
       "      <th>club_name</th>\n",
       "      <th>player_name</th>\n",
       "      <th>age</th>\n",
       "      <th>position</th>\n",
       "      <th>club_involved_name</th>\n",
       "      <th>transfer_movement</th>\n",
       "      <th>transfer_period</th>\n",
       "      <th>fee_cleaned</th>\n",
       "      <th>league_name</th>\n",
       "      <th>season</th>\n",
       "    </tr>\n",
       "  </thead>\n",
       "  <tbody>\n",
       "    <tr>\n",
       "      <th>6879</th>\n",
       "      <td>VfL Wolfsburg</td>\n",
       "      <td>Akaki Gogia</td>\n",
       "      <td>18.0</td>\n",
       "      <td>Right Winger</td>\n",
       "      <td>Wolfsburg II</td>\n",
       "      <td>in</td>\n",
       "      <td>Winter</td>\n",
       "      <td>0.000</td>\n",
       "      <td>1 Bundesliga</td>\n",
       "      <td>2010/2011</td>\n",
       "    </tr>\n",
       "    <tr>\n",
       "      <th>6881</th>\n",
       "      <td>SC Freiburg</td>\n",
       "      <td>Alain Junior Ollé Ollé</td>\n",
       "      <td>23.0</td>\n",
       "      <td>Left Midfield</td>\n",
       "      <td>Stabæk Fotball</td>\n",
       "      <td>out</td>\n",
       "      <td>Winter</td>\n",
       "      <td>0.000</td>\n",
       "      <td>1 Bundesliga</td>\n",
       "      <td>2010/2011</td>\n",
       "    </tr>\n",
       "    <tr>\n",
       "      <th>6882</th>\n",
       "      <td>1.FC Kaiserslautern</td>\n",
       "      <td>Alan Stulin</td>\n",
       "      <td>20.0</td>\n",
       "      <td>Left-Back</td>\n",
       "      <td>K'lautern II</td>\n",
       "      <td>in</td>\n",
       "      <td>Summer</td>\n",
       "      <td>0.000</td>\n",
       "      <td>1 Bundesliga</td>\n",
       "      <td>2010/2011</td>\n",
       "    </tr>\n",
       "    <tr>\n",
       "      <th>6884</th>\n",
       "      <td>VfB Stuttgart</td>\n",
       "      <td>Alessandro Riedle</td>\n",
       "      <td>19.0</td>\n",
       "      <td>Central Midfield</td>\n",
       "      <td>Grasshoppers</td>\n",
       "      <td>out</td>\n",
       "      <td>Summer</td>\n",
       "      <td>NaN</td>\n",
       "      <td>1 Bundesliga</td>\n",
       "      <td>2010/2011</td>\n",
       "    </tr>\n",
       "    <tr>\n",
       "      <th>6886</th>\n",
       "      <td>Eintracht Frankfurt</td>\n",
       "      <td>Alexander Dercho (Krük)</td>\n",
       "      <td>23.0</td>\n",
       "      <td>Left-Back</td>\n",
       "      <td>VfL Osnabrück</td>\n",
       "      <td>out</td>\n",
       "      <td>Summer</td>\n",
       "      <td>0.045</td>\n",
       "      <td>1 Bundesliga</td>\n",
       "      <td>2010/2011</td>\n",
       "    </tr>\n",
       "  </tbody>\n",
       "</table>\n",
       "</div>"
      ],
      "text/plain": [
       "                club_name              player_name   age          position  \\\n",
       "6879        VfL Wolfsburg              Akaki Gogia  18.0      Right Winger   \n",
       "6881          SC Freiburg   Alain Junior Ollé Ollé  23.0     Left Midfield   \n",
       "6882  1.FC Kaiserslautern              Alan Stulin  20.0         Left-Back   \n",
       "6884        VfB Stuttgart        Alessandro Riedle  19.0  Central Midfield   \n",
       "6886  Eintracht Frankfurt  Alexander Dercho (Krük)  23.0         Left-Back   \n",
       "\n",
       "     club_involved_name transfer_movement transfer_period  fee_cleaned  \\\n",
       "6879       Wolfsburg II                in          Winter        0.000   \n",
       "6881     Stabæk Fotball               out          Winter        0.000   \n",
       "6882       K'lautern II                in          Summer        0.000   \n",
       "6884       Grasshoppers               out          Summer          NaN   \n",
       "6886      VfL Osnabrück               out          Summer        0.045   \n",
       "\n",
       "       league_name     season  \n",
       "6879  1 Bundesliga  2010/2011  \n",
       "6881  1 Bundesliga  2010/2011  \n",
       "6882  1 Bundesliga  2010/2011  \n",
       "6884  1 Bundesliga  2010/2011  \n",
       "6886  1 Bundesliga  2010/2011  "
      ]
     },
     "execution_count": 1703,
     "metadata": {},
     "output_type": "execute_result"
    }
   ],
   "source": [
    "#Delete all Loanees \n",
    "df = df[~df[\"fee\"].str.contains(\"loan|Loan\", na=False)]\n",
    "df.drop([\"fee\", \"league_code\", \"year\"], axis=1, inplace=True)\n",
    "df.head()"
   ]
  },
  {
   "cell_type": "markdown",
   "metadata": {},
   "source": [
    "# 1. Data Preparation/Data Checks"
   ]
  },
  {
   "cell_type": "code",
   "execution_count": 1704,
   "metadata": {},
   "outputs": [
    {
     "data": {
      "text/html": [
       "<div>\n",
       "<style scoped>\n",
       "    .dataframe tbody tr th:only-of-type {\n",
       "        vertical-align: middle;\n",
       "    }\n",
       "\n",
       "    .dataframe tbody tr th {\n",
       "        vertical-align: top;\n",
       "    }\n",
       "\n",
       "    .dataframe thead th {\n",
       "        text-align: right;\n",
       "    }\n",
       "</style>\n",
       "<table border=\"1\" class=\"dataframe\">\n",
       "  <thead>\n",
       "    <tr style=\"text-align: right;\">\n",
       "      <th></th>\n",
       "      <th>club_name</th>\n",
       "      <th>player_name</th>\n",
       "      <th>age</th>\n",
       "      <th>position</th>\n",
       "      <th>club_involved_name</th>\n",
       "      <th>transfer_movement</th>\n",
       "      <th>transfer_period</th>\n",
       "      <th>fee_cleaned</th>\n",
       "      <th>league_name</th>\n",
       "      <th>season</th>\n",
       "    </tr>\n",
       "  </thead>\n",
       "  <tbody>\n",
       "    <tr>\n",
       "      <th>7317</th>\n",
       "      <td>Borussia Dortmund</td>\n",
       "      <td>Shinji Kagawa</td>\n",
       "      <td>21.0</td>\n",
       "      <td>Attacking Midfield</td>\n",
       "      <td>Cerezo Osaka</td>\n",
       "      <td>in</td>\n",
       "      <td>Summer</td>\n",
       "      <td>0.0</td>\n",
       "      <td>1 Bundesliga</td>\n",
       "      <td>2010/2011</td>\n",
       "    </tr>\n",
       "    <tr>\n",
       "      <th>8413</th>\n",
       "      <td>Borussia Dortmund</td>\n",
       "      <td>Shinji Kagawa</td>\n",
       "      <td>23.0</td>\n",
       "      <td>Attacking Midfield</td>\n",
       "      <td>Man Utd</td>\n",
       "      <td>out</td>\n",
       "      <td>Summer</td>\n",
       "      <td>14.4</td>\n",
       "      <td>1 Bundesliga</td>\n",
       "      <td>2012/2013</td>\n",
       "    </tr>\n",
       "    <tr>\n",
       "      <th>9490</th>\n",
       "      <td>Borussia Dortmund</td>\n",
       "      <td>Shinji Kagawa</td>\n",
       "      <td>25.0</td>\n",
       "      <td>Attacking Midfield</td>\n",
       "      <td>Man Utd</td>\n",
       "      <td>in</td>\n",
       "      <td>Summer</td>\n",
       "      <td>7.2</td>\n",
       "      <td>1 Bundesliga</td>\n",
       "      <td>2014/2015</td>\n",
       "    </tr>\n",
       "    <tr>\n",
       "      <th>12319</th>\n",
       "      <td>Borussia Dortmund</td>\n",
       "      <td>Shinji Kagawa</td>\n",
       "      <td>30.0</td>\n",
       "      <td>Attacking Midfield</td>\n",
       "      <td>Real Zaragoza</td>\n",
       "      <td>out</td>\n",
       "      <td>Summer</td>\n",
       "      <td>2.7</td>\n",
       "      <td>1 Bundesliga</td>\n",
       "      <td>2019/2020</td>\n",
       "    </tr>\n",
       "    <tr>\n",
       "      <th>108239</th>\n",
       "      <td>Manchester United</td>\n",
       "      <td>Shinji Kagawa</td>\n",
       "      <td>23.0</td>\n",
       "      <td>Attacking Midfield</td>\n",
       "      <td>Bor. Dortmund</td>\n",
       "      <td>in</td>\n",
       "      <td>Summer</td>\n",
       "      <td>14.4</td>\n",
       "      <td>Premier League</td>\n",
       "      <td>2012/2013</td>\n",
       "    </tr>\n",
       "    <tr>\n",
       "      <th>110407</th>\n",
       "      <td>Manchester United</td>\n",
       "      <td>Shinji Kagawa</td>\n",
       "      <td>25.0</td>\n",
       "      <td>Attacking Midfield</td>\n",
       "      <td>Bor. Dortmund</td>\n",
       "      <td>out</td>\n",
       "      <td>Summer</td>\n",
       "      <td>7.2</td>\n",
       "      <td>Premier League</td>\n",
       "      <td>2014/2015</td>\n",
       "    </tr>\n",
       "  </tbody>\n",
       "</table>\n",
       "</div>"
      ],
      "text/plain": [
       "                club_name    player_name   age            position  \\\n",
       "7317    Borussia Dortmund  Shinji Kagawa  21.0  Attacking Midfield   \n",
       "8413    Borussia Dortmund  Shinji Kagawa  23.0  Attacking Midfield   \n",
       "9490    Borussia Dortmund  Shinji Kagawa  25.0  Attacking Midfield   \n",
       "12319   Borussia Dortmund  Shinji Kagawa  30.0  Attacking Midfield   \n",
       "108239  Manchester United  Shinji Kagawa  23.0  Attacking Midfield   \n",
       "110407  Manchester United  Shinji Kagawa  25.0  Attacking Midfield   \n",
       "\n",
       "       club_involved_name transfer_movement transfer_period  fee_cleaned  \\\n",
       "7317         Cerezo Osaka                in          Summer          0.0   \n",
       "8413              Man Utd               out          Summer         14.4   \n",
       "9490              Man Utd                in          Summer          7.2   \n",
       "12319       Real Zaragoza               out          Summer          2.7   \n",
       "108239      Bor. Dortmund                in          Summer         14.4   \n",
       "110407      Bor. Dortmund               out          Summer          7.2   \n",
       "\n",
       "           league_name     season  \n",
       "7317      1 Bundesliga  2010/2011  \n",
       "8413      1 Bundesliga  2012/2013  \n",
       "9490      1 Bundesliga  2014/2015  \n",
       "12319     1 Bundesliga  2019/2020  \n",
       "108239  Premier League  2012/2013  \n",
       "110407  Premier League  2014/2015  "
      ]
     },
     "execution_count": 1704,
     "metadata": {},
     "output_type": "execute_result"
    }
   ],
   "source": [
    "df[df[\"player_name\"] == \"Shinji Kagawa\"]"
   ]
  },
  {
   "cell_type": "markdown",
   "metadata": {},
   "source": [
    "I'm aggregating players who played twice for a certain club. This is not an optimal solution but sufficient for our purpose. Keeping those transfers separate would make it more complicated to match the purchase and sale in one line and calculate the profit (if you know a better solution, please reach out)"
   ]
  },
  {
   "cell_type": "code",
   "execution_count": 1705,
   "metadata": {},
   "outputs": [],
   "source": [
    "# Group players who placed twice for one specific club\n",
    "df1 = df.groupby([\"player_name\", \"club_name\", \"transfer_movement\", \"league_name\"], as_index=False)[\"fee_cleaned\"].sum()"
   ]
  },
  {
   "cell_type": "code",
   "execution_count": 1706,
   "metadata": {},
   "outputs": [
    {
     "data": {
      "text/html": [
       "<div>\n",
       "<style scoped>\n",
       "    .dataframe tbody tr th:only-of-type {\n",
       "        vertical-align: middle;\n",
       "    }\n",
       "\n",
       "    .dataframe tbody tr th {\n",
       "        vertical-align: top;\n",
       "    }\n",
       "\n",
       "    .dataframe thead th {\n",
       "        text-align: right;\n",
       "    }\n",
       "</style>\n",
       "<table border=\"1\" class=\"dataframe\">\n",
       "  <thead>\n",
       "    <tr style=\"text-align: right;\">\n",
       "      <th></th>\n",
       "      <th>player_name</th>\n",
       "      <th>club_name</th>\n",
       "      <th>transfer_movement</th>\n",
       "      <th>league_name</th>\n",
       "      <th>fee_cleaned</th>\n",
       "    </tr>\n",
       "  </thead>\n",
       "  <tbody>\n",
       "    <tr>\n",
       "      <th>27293</th>\n",
       "      <td>Shinji Kagawa</td>\n",
       "      <td>Borussia Dortmund</td>\n",
       "      <td>in</td>\n",
       "      <td>1 Bundesliga</td>\n",
       "      <td>7.2</td>\n",
       "    </tr>\n",
       "    <tr>\n",
       "      <th>27294</th>\n",
       "      <td>Shinji Kagawa</td>\n",
       "      <td>Borussia Dortmund</td>\n",
       "      <td>out</td>\n",
       "      <td>1 Bundesliga</td>\n",
       "      <td>17.1</td>\n",
       "    </tr>\n",
       "    <tr>\n",
       "      <th>27295</th>\n",
       "      <td>Shinji Kagawa</td>\n",
       "      <td>Manchester United</td>\n",
       "      <td>in</td>\n",
       "      <td>Premier League</td>\n",
       "      <td>14.4</td>\n",
       "    </tr>\n",
       "    <tr>\n",
       "      <th>27296</th>\n",
       "      <td>Shinji Kagawa</td>\n",
       "      <td>Manchester United</td>\n",
       "      <td>out</td>\n",
       "      <td>Premier League</td>\n",
       "      <td>7.2</td>\n",
       "    </tr>\n",
       "  </tbody>\n",
       "</table>\n",
       "</div>"
      ],
      "text/plain": [
       "         player_name          club_name transfer_movement     league_name  \\\n",
       "27293  Shinji Kagawa  Borussia Dortmund                in    1 Bundesliga   \n",
       "27294  Shinji Kagawa  Borussia Dortmund               out    1 Bundesliga   \n",
       "27295  Shinji Kagawa  Manchester United                in  Premier League   \n",
       "27296  Shinji Kagawa  Manchester United               out  Premier League   \n",
       "\n",
       "       fee_cleaned  \n",
       "27293          7.2  \n",
       "27294         17.1  \n",
       "27295         14.4  \n",
       "27296          7.2  "
      ]
     },
     "execution_count": 1706,
     "metadata": {},
     "output_type": "execute_result"
    }
   ],
   "source": [
    "df1[df1[\"player_name\"] == \"Shinji Kagawa\"]"
   ]
  },
  {
   "cell_type": "markdown",
   "metadata": {},
   "source": [
    "Now we can split the dataset based on the column \"transfer_movement\" and merge it again. We want only one row per player transfer. Currently, we have one row for Götze's purchase from Bayern in 2013/2014 and one row for his sale in 2016/2017.\n",
    "\n",
    "Note: We exclude players who where just bought and still play for their team. For example, Götze still plays for Eindhoven. We don't know if they will be able to sell him on for a profit at some point, so we ignore him"
   ]
  },
  {
   "cell_type": "code",
   "execution_count": 1707,
   "metadata": {},
   "outputs": [],
   "source": [
    "df_in = df1[df1[\"transfer_movement\"] == \"in\"]\n",
    "df_out = df1[df1[\"transfer_movement\"] == \"out\"]"
   ]
  },
  {
   "cell_type": "code",
   "execution_count": 1708,
   "metadata": {},
   "outputs": [
    {
     "data": {
      "text/html": [
       "<div>\n",
       "<style scoped>\n",
       "    .dataframe tbody tr th:only-of-type {\n",
       "        vertical-align: middle;\n",
       "    }\n",
       "\n",
       "    .dataframe tbody tr th {\n",
       "        vertical-align: top;\n",
       "    }\n",
       "\n",
       "    .dataframe thead th {\n",
       "        text-align: right;\n",
       "    }\n",
       "</style>\n",
       "<table border=\"1\" class=\"dataframe\">\n",
       "  <thead>\n",
       "    <tr style=\"text-align: right;\">\n",
       "      <th></th>\n",
       "      <th>player_name</th>\n",
       "      <th>club_name</th>\n",
       "      <th>transfer_movement_in</th>\n",
       "      <th>league_name_in</th>\n",
       "      <th>fee_cleaned_in</th>\n",
       "      <th>transfer_movement_out</th>\n",
       "      <th>league_name_out</th>\n",
       "      <th>fee_cleaned_out</th>\n",
       "    </tr>\n",
       "  </thead>\n",
       "  <tbody>\n",
       "    <tr>\n",
       "      <th>0</th>\n",
       "      <td>Aapo Halme</td>\n",
       "      <td>Leeds United</td>\n",
       "      <td>in</td>\n",
       "      <td>Championship</td>\n",
       "      <td>0.504</td>\n",
       "      <td>out</td>\n",
       "      <td>Championship</td>\n",
       "      <td>0.203</td>\n",
       "    </tr>\n",
       "    <tr>\n",
       "      <th>1</th>\n",
       "      <td>Aaron Boupendza</td>\n",
       "      <td>FC Girondins Bordeaux</td>\n",
       "      <td>in</td>\n",
       "      <td>Ligue 1</td>\n",
       "      <td>0.000</td>\n",
       "      <td>out</td>\n",
       "      <td>Ligue 1</td>\n",
       "      <td>0.000</td>\n",
       "    </tr>\n",
       "    <tr>\n",
       "      <th>2</th>\n",
       "      <td>Aaron Cole</td>\n",
       "      <td>Derby County</td>\n",
       "      <td>in</td>\n",
       "      <td>Championship</td>\n",
       "      <td>0.000</td>\n",
       "      <td>out</td>\n",
       "      <td>Championship</td>\n",
       "      <td>0.000</td>\n",
       "    </tr>\n",
       "    <tr>\n",
       "      <th>3</th>\n",
       "      <td>Aaron Collins</td>\n",
       "      <td>Wolverhampton Wanderers</td>\n",
       "      <td>in</td>\n",
       "      <td>Championship</td>\n",
       "      <td>0.069</td>\n",
       "      <td>out</td>\n",
       "      <td>Premier League</td>\n",
       "      <td>0.000</td>\n",
       "    </tr>\n",
       "    <tr>\n",
       "      <th>4</th>\n",
       "      <td>Aaron Cresswell</td>\n",
       "      <td>Ipswich Town</td>\n",
       "      <td>in</td>\n",
       "      <td>Championship</td>\n",
       "      <td>0.248</td>\n",
       "      <td>out</td>\n",
       "      <td>Championship</td>\n",
       "      <td>4.280</td>\n",
       "    </tr>\n",
       "  </tbody>\n",
       "</table>\n",
       "</div>"
      ],
      "text/plain": [
       "       player_name                club_name transfer_movement_in  \\\n",
       "0       Aapo Halme             Leeds United                   in   \n",
       "1  Aaron Boupendza    FC Girondins Bordeaux                   in   \n",
       "2       Aaron Cole             Derby County                   in   \n",
       "3    Aaron Collins  Wolverhampton Wanderers                   in   \n",
       "4  Aaron Cresswell             Ipswich Town                   in   \n",
       "\n",
       "  league_name_in  fee_cleaned_in transfer_movement_out league_name_out  \\\n",
       "0   Championship           0.504                   out    Championship   \n",
       "1        Ligue 1           0.000                   out         Ligue 1   \n",
       "2   Championship           0.000                   out    Championship   \n",
       "3   Championship           0.069                   out  Premier League   \n",
       "4   Championship           0.248                   out    Championship   \n",
       "\n",
       "   fee_cleaned_out  \n",
       "0            0.203  \n",
       "1            0.000  \n",
       "2            0.000  \n",
       "3            0.000  \n",
       "4            4.280  "
      ]
     },
     "execution_count": 1708,
     "metadata": {},
     "output_type": "execute_result"
    }
   ],
   "source": [
    "df_all = pd.merge(df_in, df_out, on=[\"player_name\", \"club_name\"], suffixes=(\"_in\", \"_out\"))\n",
    "df_all.head()"
   ]
  },
  {
   "cell_type": "code",
   "execution_count": 1709,
   "metadata": {},
   "outputs": [
    {
     "data": {
      "text/html": [
       "<div>\n",
       "<style scoped>\n",
       "    .dataframe tbody tr th:only-of-type {\n",
       "        vertical-align: middle;\n",
       "    }\n",
       "\n",
       "    .dataframe tbody tr th {\n",
       "        vertical-align: top;\n",
       "    }\n",
       "\n",
       "    .dataframe thead th {\n",
       "        text-align: right;\n",
       "    }\n",
       "</style>\n",
       "<table border=\"1\" class=\"dataframe\">\n",
       "  <thead>\n",
       "    <tr style=\"text-align: right;\">\n",
       "      <th></th>\n",
       "      <th>player_name</th>\n",
       "      <th>club_name</th>\n",
       "      <th>transfer_movement_in</th>\n",
       "      <th>league_name_in</th>\n",
       "      <th>fee_cleaned_in</th>\n",
       "      <th>transfer_movement_out</th>\n",
       "      <th>league_name_out</th>\n",
       "      <th>fee_cleaned_out</th>\n",
       "    </tr>\n",
       "  </thead>\n",
       "  <tbody>\n",
       "    <tr>\n",
       "      <th>5849</th>\n",
       "      <td>Mario Götze</td>\n",
       "      <td>Bayern Munich</td>\n",
       "      <td>in</td>\n",
       "      <td>1 Bundesliga</td>\n",
       "      <td>33.3</td>\n",
       "      <td>out</td>\n",
       "      <td>1 Bundesliga</td>\n",
       "      <td>19.8</td>\n",
       "    </tr>\n",
       "    <tr>\n",
       "      <th>5850</th>\n",
       "      <td>Mario Götze</td>\n",
       "      <td>Borussia Dortmund</td>\n",
       "      <td>in</td>\n",
       "      <td>1 Bundesliga</td>\n",
       "      <td>19.8</td>\n",
       "      <td>out</td>\n",
       "      <td>1 Bundesliga</td>\n",
       "      <td>33.3</td>\n",
       "    </tr>\n",
       "  </tbody>\n",
       "</table>\n",
       "</div>"
      ],
      "text/plain": [
       "      player_name          club_name transfer_movement_in league_name_in  \\\n",
       "5849  Mario Götze      Bayern Munich                   in   1 Bundesliga   \n",
       "5850  Mario Götze  Borussia Dortmund                   in   1 Bundesliga   \n",
       "\n",
       "      fee_cleaned_in transfer_movement_out league_name_out  fee_cleaned_out  \n",
       "5849            33.3                   out    1 Bundesliga             19.8  \n",
       "5850            19.8                   out    1 Bundesliga             33.3  "
      ]
     },
     "execution_count": 1709,
     "metadata": {},
     "output_type": "execute_result"
    }
   ],
   "source": [
    "df_all[df_all[\"player_name\"] == \"Mario Götze\"]"
   ]
  },
  {
   "cell_type": "code",
   "execution_count": 1710,
   "metadata": {},
   "outputs": [
    {
     "data": {
      "text/plain": [
       "0"
      ]
     },
     "execution_count": 1710,
     "metadata": {},
     "output_type": "execute_result"
    }
   ],
   "source": [
    "# Check for duplicates\n",
    "duplicates = df_all.duplicated()\n",
    "duplicates.sum()"
   ]
  },
  {
   "cell_type": "code",
   "execution_count": 1711,
   "metadata": {},
   "outputs": [
    {
     "data": {
      "text/plain": [
       "player_name              0\n",
       "club_name                0\n",
       "transfer_movement_in     0\n",
       "league_name_in           0\n",
       "fee_cleaned_in           0\n",
       "transfer_movement_out    0\n",
       "league_name_out          0\n",
       "fee_cleaned_out          0\n",
       "dtype: int64"
      ]
     },
     "execution_count": 1711,
     "metadata": {},
     "output_type": "execute_result"
    }
   ],
   "source": [
    "# Check for NaNs\n",
    "df_all.isna().sum()"
   ]
  },
  {
   "cell_type": "code",
   "execution_count": 1712,
   "metadata": {},
   "outputs": [
    {
     "data": {
      "text/html": [
       "<div>\n",
       "<style scoped>\n",
       "    .dataframe tbody tr th:only-of-type {\n",
       "        vertical-align: middle;\n",
       "    }\n",
       "\n",
       "    .dataframe tbody tr th {\n",
       "        vertical-align: top;\n",
       "    }\n",
       "\n",
       "    .dataframe thead th {\n",
       "        text-align: right;\n",
       "    }\n",
       "</style>\n",
       "<table border=\"1\" class=\"dataframe\">\n",
       "  <thead>\n",
       "    <tr style=\"text-align: right;\">\n",
       "      <th></th>\n",
       "      <th>player_name</th>\n",
       "      <th>club_name</th>\n",
       "      <th>transfer_movement_in</th>\n",
       "      <th>league_name_in</th>\n",
       "      <th>fee_cleaned_in</th>\n",
       "      <th>transfer_movement_out</th>\n",
       "      <th>league_name_out</th>\n",
       "      <th>fee_cleaned_out</th>\n",
       "      <th>Profit</th>\n",
       "    </tr>\n",
       "  </thead>\n",
       "  <tbody>\n",
       "    <tr>\n",
       "      <th>0</th>\n",
       "      <td>Aapo Halme</td>\n",
       "      <td>Leeds United</td>\n",
       "      <td>in</td>\n",
       "      <td>Championship</td>\n",
       "      <td>0.504</td>\n",
       "      <td>out</td>\n",
       "      <td>Championship</td>\n",
       "      <td>0.203</td>\n",
       "      <td>-0.301</td>\n",
       "    </tr>\n",
       "    <tr>\n",
       "      <th>1</th>\n",
       "      <td>Aaron Boupendza</td>\n",
       "      <td>FC Girondins Bordeaux</td>\n",
       "      <td>in</td>\n",
       "      <td>Ligue 1</td>\n",
       "      <td>0.000</td>\n",
       "      <td>out</td>\n",
       "      <td>Ligue 1</td>\n",
       "      <td>0.000</td>\n",
       "      <td>0.000</td>\n",
       "    </tr>\n",
       "  </tbody>\n",
       "</table>\n",
       "</div>"
      ],
      "text/plain": [
       "       player_name              club_name transfer_movement_in league_name_in  \\\n",
       "0       Aapo Halme           Leeds United                   in   Championship   \n",
       "1  Aaron Boupendza  FC Girondins Bordeaux                   in        Ligue 1   \n",
       "\n",
       "   fee_cleaned_in transfer_movement_out league_name_out  fee_cleaned_out  \\\n",
       "0           0.504                   out    Championship            0.203   \n",
       "1           0.000                   out         Ligue 1            0.000   \n",
       "\n",
       "   Profit  \n",
       "0  -0.301  \n",
       "1   0.000  "
      ]
     },
     "execution_count": 1712,
     "metadata": {},
     "output_type": "execute_result"
    }
   ],
   "source": [
    "# Calculate the profits/loss\n",
    "df_all[\"Profit\"] = df_all[\"fee_cleaned_out\"] - df_all[\"fee_cleaned_in\"]\n",
    "df_all.head(2)"
   ]
  },
  {
   "cell_type": "code",
   "execution_count": 1713,
   "metadata": {},
   "outputs": [
    {
     "data": {
      "text/plain": [
       "(9652, 9)"
      ]
     },
     "execution_count": 1713,
     "metadata": {},
     "output_type": "execute_result"
    }
   ],
   "source": [
    "df_all.shape"
   ]
  },
  {
   "cell_type": "markdown",
   "metadata": {},
   "source": [
    "We have 9652 players left that we can analyze now. I will start by doing some exploratory analysis"
   ]
  },
  {
   "cell_type": "markdown",
   "metadata": {},
   "source": [
    "# 2. Exploratory Data Analysis"
   ]
  },
  {
   "cell_type": "code",
   "execution_count": 1714,
   "metadata": {},
   "outputs": [
    {
     "data": {
      "text/plain": [
       "<function matplotlib.pyplot.show(*args, **kw)>"
      ]
     },
     "execution_count": 1714,
     "metadata": {},
     "output_type": "execute_result"
    },
    {
     "data": {
      "image/png": "[encoded data removed]",
      "text/plain": [
       "<Figure size 432x288 with 1 Axes>"
      ]
     },
     "metadata": {
      "needs_background": "light"
     },
     "output_type": "display_data"
    }
   ],
   "source": [
    "plt.hist(df_all[\"Profit\"], bins = 25, density=1, facecolor=\"g\", alpha=0.75)\n",
    "plt.title(\"Histogram of Profit per Transfer\")\n",
    "plt.xlabel(\"Transfer Sum (in M£)\")\n",
    "plt.ylabel (\"Number of transfers\")\n",
    "plt.show"
   ]
  },
  {
   "cell_type": "code",
   "execution_count": 1715,
   "metadata": {},
   "outputs": [
    {
     "data": {
      "image/png": "[encoded data removed]",
      "text/plain": [
       "<Figure size 432x288 with 1 Axes>"
      ]
     },
     "metadata": {
      "needs_background": "light"
     },
     "output_type": "display_data"
    }
   ],
   "source": [
    "# Let's look at the same graph with a log scale \n",
    "plt.hist(df_all[\"Profit\"], bins = 25, density=1, facecolor=\"g\", alpha=0.75, log=True)\n",
    "plt.title(\"Histogram of Transfer Profits\")\n",
    "plt.xlabel(\"Transfer Profit (in M£)\")\n",
    "plt.ylabel (\"Number of transfers (log scale)\")\n",
    "\n",
    "plt.show()"
   ]
  },
  {
   "cell_type": "code",
   "execution_count": 1716,
   "metadata": {},
   "outputs": [
    {
     "data": {
      "text/plain": [
       "0.5166681516784072"
      ]
     },
     "execution_count": 1716,
     "metadata": {},
     "output_type": "execute_result"
    }
   ],
   "source": [
    "mean = np.mean(df_all[\"Profit\"])\n",
    "mean"
   ]
  },
  {
   "cell_type": "code",
   "execution_count": 1717,
   "metadata": {},
   "outputs": [
    {
     "data": {
      "text/plain": [
       "0.0"
      ]
     },
     "execution_count": 1717,
     "metadata": {},
     "output_type": "execute_result"
    }
   ],
   "source": [
    "median = np.median(df_all[\"Profit\"])\n",
    "median"
   ]
  },
  {
   "cell_type": "code",
   "execution_count": 1718,
   "metadata": {},
   "outputs": [
    {
     "data": {
      "text/plain": [
       "ModeResult(mode=array([0.]), count=array([5364]))"
      ]
     },
     "execution_count": 1718,
     "metadata": {},
     "output_type": "execute_result"
    }
   ],
   "source": [
    "mode = stats.mode(df_all[\"Profit\"])\n",
    "mode"
   ]
  },
  {
   "cell_type": "code",
   "execution_count": 1719,
   "metadata": {},
   "outputs": [
    {
     "data": {
      "text/plain": [
       "5.935496382256612"
      ]
     },
     "execution_count": 1719,
     "metadata": {},
     "output_type": "execute_result"
    }
   ],
   "source": [
    "std = np.std(df_all[\"Profit\"])\n",
    "std"
   ]
  },
  {
   "cell_type": "code",
   "execution_count": 1720,
   "metadata": {},
   "outputs": [
    {
     "data": {
      "text/plain": [
       "0.26114150446940826"
      ]
     },
     "execution_count": 1720,
     "metadata": {},
     "output_type": "execute_result"
    }
   ],
   "source": [
    "skew = 3*(mean-median)/std\n",
    "skew"
   ]
  },
  {
   "cell_type": "code",
   "execution_count": 1721,
   "metadata": {},
   "outputs": [
    {
     "data": {
      "text/plain": [
       "7591"
      ]
     },
     "execution_count": 1721,
     "metadata": {},
     "output_type": "execute_result"
    }
   ],
   "source": [
    "# Calculate number of players that didn't generate a profit\n",
    "no_profit = df_all[df_all[\"Profit\"] <= 0][\"player_name\"].count()\n",
    "no_profit"
   ]
  },
  {
   "cell_type": "code",
   "execution_count": 1722,
   "metadata": {},
   "outputs": [
    {
     "data": {
      "text/plain": [
       "0.7864691255698301"
      ]
     },
     "execution_count": 1722,
     "metadata": {},
     "output_type": "execute_result"
    }
   ],
   "source": [
    "# Calculate number of players that didn't generate a profit in percentage \n",
    "no_profit_ratio = df_all[df_all[\"Profit\"] <= 0][\"player_name\"].count()/df_all[\"player_name\"].count()\n",
    "no_profit_ratio"
   ]
  },
  {
   "cell_type": "markdown",
   "metadata": {},
   "source": [
    "# 3. Classify transfers based on ABC logic \n",
    "\n",
    "ABC classification is based on the Pareto principle, frequently used in supply chain for stock control. Instead of trying to manage every product at an individual level, ABC classification groups them so staff can prioritize some products over others. Based on criteria such as a revenue, it divides products into three classes: A, B, and C, where A products are the most important. "
   ]
  },
  {
   "cell_type": "code",
   "execution_count": 1723,
   "metadata": {},
   "outputs": [],
   "source": [
    "# Since we can't deal with negative values for cumulative analyses, we have to set all negative values to 0\n",
    "df_all[\"Profit\"]=df_all[\"Profit\"].mask(df_all[\"Profit\"].lt(0),0)"
   ]
  },
  {
   "cell_type": "code",
   "execution_count": 1724,
   "metadata": {},
   "outputs": [],
   "source": [
    "# Sort the dataframe by profit and reset index\n",
    "sorted_df = df_all.sort_values(by=\"Profit\", ascending=False)\n",
    "sorted_df = sorted_df.reset_index()"
   ]
  },
  {
   "cell_type": "markdown",
   "metadata": {},
   "source": [
    "Before we start with our calculation, we introduce the ABC classification criteria. The limits for each class are somewhat arbitrary and might be changed depending on the case. Since ABC classification is based on the Pareto principle, the rule of thumb says that 20% of transfers make up for 80% of total profits. From our explanatory data analysis, we already know that this number will be lower but 80% can still serve as a good limit for class A. The rest goes to classes B and C."
   ]
  },
  {
   "cell_type": "code",
   "execution_count": 1725,
   "metadata": {},
   "outputs": [],
   "source": [
    "def classify(percentage):\n",
    "    \"\"\"Apply an ABC classification to each transfer based on \n",
    "    its cumulative percentage profit contribution. \n",
    "    \n",
    "    :param percentage: Running percentage of profit contributed\n",
    "    :return: ABC classification\n",
    "    \"\"\"\n",
    "    \n",
    "    if percentage > 0 and percentage <= 80:\n",
    "        return 'A'\n",
    "    elif percentage > 80 and percentage <= 95:\n",
    "        return 'B'\n",
    "    else:\n",
    "        return 'C'"
   ]
  },
  {
   "cell_type": "markdown",
   "metadata": {},
   "source": [
    "The ABC classes are calculated by calculating the cumulative sum of transfers and then calculating its running percentage of total transfers. The same procedure has to be done for cumulative transfer profits. "
   ]
  },
  {
   "cell_type": "code",
   "execution_count": 1726,
   "metadata": {},
   "outputs": [],
   "source": [
    "# Cumulate number of transfers \n",
    "sorted_df[\"ones\"] = 1\n",
    "sorted_df[\"cumcount\"] = sorted_df[\"ones\"].cumsum()\n",
    "\n",
    "# in percentage \n",
    "sorted_df[\"cumcount%\"] = (sorted_df[\"cumcount\"] / sorted_df[\"cumcount\"].max())*100"
   ]
  },
  {
   "cell_type": "code",
   "execution_count": 1727,
   "metadata": {},
   "outputs": [],
   "source": [
    "# Cumulate transfer profits \n",
    "sorted_df[\"cumprofit\"] = sorted_df[\"Profit\"].cumsum()\n",
    "sorted_df[\"profit%\"] = (sorted_df[\"Profit\"] / sorted_df[\"Profit\"].sum())*100\n",
    "sorted_df[\"cumprofit%\"] = sorted_df[\"profit%\"].cumsum()"
   ]
  },
  {
   "cell_type": "code",
   "execution_count": 1728,
   "metadata": {},
   "outputs": [
    {
     "data": {
      "text/html": [
       "<div>\n",
       "<style scoped>\n",
       "    .dataframe tbody tr th:only-of-type {\n",
       "        vertical-align: middle;\n",
       "    }\n",
       "\n",
       "    .dataframe tbody tr th {\n",
       "        vertical-align: top;\n",
       "    }\n",
       "\n",
       "    .dataframe thead th {\n",
       "        text-align: right;\n",
       "    }\n",
       "</style>\n",
       "<table border=\"1\" class=\"dataframe\">\n",
       "  <thead>\n",
       "    <tr style=\"text-align: right;\">\n",
       "      <th></th>\n",
       "      <th>index</th>\n",
       "      <th>player_name</th>\n",
       "      <th>club_name</th>\n",
       "      <th>transfer_movement_in</th>\n",
       "      <th>league_name_in</th>\n",
       "      <th>fee_cleaned_in</th>\n",
       "      <th>transfer_movement_out</th>\n",
       "      <th>league_name_out</th>\n",
       "      <th>fee_cleaned_out</th>\n",
       "      <th>Profit</th>\n",
       "      <th>ones</th>\n",
       "      <th>cumcount</th>\n",
       "      <th>cumcount%</th>\n",
       "      <th>cumprofit</th>\n",
       "      <th>profit%</th>\n",
       "      <th>cumprofit%</th>\n",
       "    </tr>\n",
       "  </thead>\n",
       "  <tbody>\n",
       "    <tr>\n",
       "      <th>0</th>\n",
       "      <td>5136</td>\n",
       "      <td>Kylian Mbappé</td>\n",
       "      <td>AS Monaco</td>\n",
       "      <td>in</td>\n",
       "      <td>Ligue 1</td>\n",
       "      <td>0.0</td>\n",
       "      <td>out</td>\n",
       "      <td>Ligue 1</td>\n",
       "      <td>130.5</td>\n",
       "      <td>130.5</td>\n",
       "      <td>1</td>\n",
       "      <td>1</td>\n",
       "      <td>0.010361</td>\n",
       "      <td>130.5</td>\n",
       "      <td>1.144006</td>\n",
       "      <td>1.144006</td>\n",
       "    </tr>\n",
       "    <tr>\n",
       "      <th>1</th>\n",
       "      <td>7318</td>\n",
       "      <td>Philippe Coutinho</td>\n",
       "      <td>Liverpool FC</td>\n",
       "      <td>in</td>\n",
       "      <td>Premier League</td>\n",
       "      <td>11.7</td>\n",
       "      <td>out</td>\n",
       "      <td>Premier League</td>\n",
       "      <td>130.5</td>\n",
       "      <td>118.8</td>\n",
       "      <td>1</td>\n",
       "      <td>2</td>\n",
       "      <td>0.020721</td>\n",
       "      <td>249.3</td>\n",
       "      <td>1.041440</td>\n",
       "      <td>2.185445</td>\n",
       "    </tr>\n",
       "  </tbody>\n",
       "</table>\n",
       "</div>"
      ],
      "text/plain": [
       "   index        player_name     club_name transfer_movement_in  \\\n",
       "0   5136      Kylian Mbappé     AS Monaco                   in   \n",
       "1   7318  Philippe Coutinho  Liverpool FC                   in   \n",
       "\n",
       "   league_name_in  fee_cleaned_in transfer_movement_out league_name_out  \\\n",
       "0         Ligue 1             0.0                   out         Ligue 1   \n",
       "1  Premier League            11.7                   out  Premier League   \n",
       "\n",
       "   fee_cleaned_out  Profit  ones  cumcount  cumcount%  cumprofit   profit%  \\\n",
       "0            130.5   130.5     1         1   0.010361      130.5  1.144006   \n",
       "1            130.5   118.8     1         2   0.020721      249.3  1.041440   \n",
       "\n",
       "   cumprofit%  \n",
       "0    1.144006  \n",
       "1    2.185445  "
      ]
     },
     "execution_count": 1728,
     "metadata": {},
     "output_type": "execute_result"
    }
   ],
   "source": [
    "sorted_df.head(2)"
   ]
  },
  {
   "cell_type": "code",
   "execution_count": 1729,
   "metadata": {},
   "outputs": [],
   "source": [
    "# Write a function to create a line chart for the dataframe\n",
    "def create_graph_total(df, a):\n",
    "    fig, ax = plt.subplots(figsize = (10,6))\n",
    "    ax.plot(df[\"cumcount%\"], df[\"cumprofit%\"], marker=\"o\")\n",
    "    ax.set_ylabel(\"Cumulative transfer profits (in %)\")\n",
    "    ax.set_xlabel(\"Cumulative number of transfers (in %)\")\n",
    "    ax.set_title(\"Transfer Profits vs. number of transfers\")\n",
    "\n",
    "    ax.axvline(a, color='r', linestyle=\"--\")\n",
    "    ax.axhline(80, color='r', linestyle=\"--\")\n",
    "\n",
    "    plt.show()"
   ]
  },
  {
   "cell_type": "code",
   "execution_count": 1730,
   "metadata": {},
   "outputs": [
    {
     "data": {
      "image/png": "[encoded data removed]",
      "text/plain": [
       "<Figure size 720x432 with 1 Axes>"
      ]
     },
     "metadata": {
      "needs_background": "light"
     },
     "output_type": "display_data"
    }
   ],
   "source": [
    "create_graph_total(sorted_df, a=6.2)"
   ]
  },
  {
   "cell_type": "markdown",
   "metadata": {},
   "source": [
    "Now we need to perform the classification and assign each transfer to its ABC Class"
   ]
  },
  {
   "cell_type": "code",
   "execution_count": 1731,
   "metadata": {},
   "outputs": [
    {
     "data": {
      "text/html": [
       "<div>\n",
       "<style scoped>\n",
       "    .dataframe tbody tr th:only-of-type {\n",
       "        vertical-align: middle;\n",
       "    }\n",
       "\n",
       "    .dataframe tbody tr th {\n",
       "        vertical-align: top;\n",
       "    }\n",
       "\n",
       "    .dataframe thead th {\n",
       "        text-align: right;\n",
       "    }\n",
       "</style>\n",
       "<table border=\"1\" class=\"dataframe\">\n",
       "  <thead>\n",
       "    <tr style=\"text-align: right;\">\n",
       "      <th></th>\n",
       "      <th>index</th>\n",
       "      <th>player_name</th>\n",
       "      <th>club_name</th>\n",
       "      <th>transfer_movement_in</th>\n",
       "      <th>league_name_in</th>\n",
       "      <th>fee_cleaned_in</th>\n",
       "      <th>transfer_movement_out</th>\n",
       "      <th>league_name_out</th>\n",
       "      <th>fee_cleaned_out</th>\n",
       "      <th>Profit</th>\n",
       "      <th>ones</th>\n",
       "      <th>cumcount</th>\n",
       "      <th>cumcount%</th>\n",
       "      <th>cumprofit</th>\n",
       "      <th>profit%</th>\n",
       "      <th>cumprofit%</th>\n",
       "      <th>abc_class</th>\n",
       "      <th>abc_rank</th>\n",
       "    </tr>\n",
       "  </thead>\n",
       "  <tbody>\n",
       "    <tr>\n",
       "      <th>9650</th>\n",
       "      <td>3583</td>\n",
       "      <td>Hicham Belkaroui</td>\n",
       "      <td>Moreirense FC</td>\n",
       "      <td>in</td>\n",
       "      <td>Liga Nos</td>\n",
       "      <td>0.0</td>\n",
       "      <td>out</td>\n",
       "      <td>Liga Nos</td>\n",
       "      <td>0.0</td>\n",
       "      <td>0.0</td>\n",
       "      <td>1</td>\n",
       "      <td>9651</td>\n",
       "      <td>99.989639</td>\n",
       "      <td>11407.286</td>\n",
       "      <td>0.0</td>\n",
       "      <td>100.0</td>\n",
       "      <td>C</td>\n",
       "      <td>5856</td>\n",
       "    </tr>\n",
       "    <tr>\n",
       "      <th>9651</th>\n",
       "      <td>9651</td>\n",
       "      <td>Özkan Yildirim</td>\n",
       "      <td>SV Werder Bremen</td>\n",
       "      <td>in</td>\n",
       "      <td>1 Bundesliga</td>\n",
       "      <td>0.0</td>\n",
       "      <td>out</td>\n",
       "      <td>1 Bundesliga</td>\n",
       "      <td>0.0</td>\n",
       "      <td>0.0</td>\n",
       "      <td>1</td>\n",
       "      <td>9652</td>\n",
       "      <td>100.000000</td>\n",
       "      <td>11407.286</td>\n",
       "      <td>0.0</td>\n",
       "      <td>100.0</td>\n",
       "      <td>C</td>\n",
       "      <td>5856</td>\n",
       "    </tr>\n",
       "  </tbody>\n",
       "</table>\n",
       "</div>"
      ],
      "text/plain": [
       "      index       player_name         club_name transfer_movement_in  \\\n",
       "9650   3583  Hicham Belkaroui     Moreirense FC                   in   \n",
       "9651   9651    Özkan Yildirim  SV Werder Bremen                   in   \n",
       "\n",
       "     league_name_in  fee_cleaned_in transfer_movement_out league_name_out  \\\n",
       "9650       Liga Nos             0.0                   out        Liga Nos   \n",
       "9651   1 Bundesliga             0.0                   out    1 Bundesliga   \n",
       "\n",
       "      fee_cleaned_out  Profit  ones  cumcount   cumcount%  cumprofit  profit%  \\\n",
       "9650              0.0     0.0     1      9651   99.989639  11407.286      0.0   \n",
       "9651              0.0     0.0     1      9652  100.000000  11407.286      0.0   \n",
       "\n",
       "      cumprofit% abc_class  abc_rank  \n",
       "9650       100.0         C      5856  \n",
       "9651       100.0         C      5856  "
      ]
     },
     "execution_count": 1731,
     "metadata": {},
     "output_type": "execute_result"
    }
   ],
   "source": [
    "# Apply the function\n",
    "sorted_df['abc_class'] = sorted_df['cumprofit%'].apply(classify)\n",
    "sorted_df['abc_rank'] = sorted_df['cumprofit%'].rank().astype(int)\n",
    "sorted_df.tail(2)"
   ]
  },
  {
   "cell_type": "code",
   "execution_count": 1732,
   "metadata": {},
   "outputs": [],
   "source": [
    "# Write a function to create ABC table\n",
    "def abc_table_total(df):\n",
    "    abc = df.groupby('abc_class').agg(\n",
    "        cum_transfers=('ones', \"count\"),\n",
    "        cum_profit=('Profit', sum),\n",
    "        mean_profit=(\"Profit\", \"mean\"),\n",
    "        median_profit=(\"Profit\", \"median\"),\n",
    "        mean_purchase_fee=(\"fee_cleaned_in\", \"mean\"),\n",
    "        median_purchase_fee=(\"fee_cleaned_in\", \"median\")\n",
    "    )\n",
    "    abc[\"cum_transfers %\"] = (abc[\"cum_transfers\"]/abc[\"cum_transfers\"].sum()*100).round(2)\n",
    "    cols= abc.columns.tolist()\n",
    "    cols = cols[-1:] + cols[:-1]\n",
    "    abc = abc[cols]\n",
    "    return abc.round(2)"
   ]
  },
  {
   "cell_type": "code",
   "execution_count": 1733,
   "metadata": {},
   "outputs": [
    {
     "data": {
      "text/html": [
       "<div>\n",
       "<style scoped>\n",
       "    .dataframe tbody tr th:only-of-type {\n",
       "        vertical-align: middle;\n",
       "    }\n",
       "\n",
       "    .dataframe tbody tr th {\n",
       "        vertical-align: top;\n",
       "    }\n",
       "\n",
       "    .dataframe thead th {\n",
       "        text-align: right;\n",
       "    }\n",
       "</style>\n",
       "<table border=\"1\" class=\"dataframe\">\n",
       "  <thead>\n",
       "    <tr style=\"text-align: right;\">\n",
       "      <th></th>\n",
       "      <th>cum_transfers %</th>\n",
       "      <th>cum_transfers</th>\n",
       "      <th>cum_profit</th>\n",
       "      <th>mean_profit</th>\n",
       "      <th>median_profit</th>\n",
       "      <th>mean_purchase_fee</th>\n",
       "      <th>median_purchase_fee</th>\n",
       "    </tr>\n",
       "    <tr>\n",
       "      <th>abc_class</th>\n",
       "      <th></th>\n",
       "      <th></th>\n",
       "      <th></th>\n",
       "      <th></th>\n",
       "      <th></th>\n",
       "      <th></th>\n",
       "      <th></th>\n",
       "    </tr>\n",
       "  </thead>\n",
       "  <tbody>\n",
       "    <tr>\n",
       "      <th>A</th>\n",
       "      <td>6.20</td>\n",
       "      <td>598</td>\n",
       "      <td>9122.14</td>\n",
       "      <td>15.25</td>\n",
       "      <td>10.8</td>\n",
       "      <td>3.45</td>\n",
       "      <td>0.53</td>\n",
       "    </tr>\n",
       "    <tr>\n",
       "      <th>B</th>\n",
       "      <td>6.01</td>\n",
       "      <td>580</td>\n",
       "      <td>1713.29</td>\n",
       "      <td>2.95</td>\n",
       "      <td>2.7</td>\n",
       "      <td>1.64</td>\n",
       "      <td>0.00</td>\n",
       "    </tr>\n",
       "    <tr>\n",
       "      <th>C</th>\n",
       "      <td>87.80</td>\n",
       "      <td>8474</td>\n",
       "      <td>571.85</td>\n",
       "      <td>0.07</td>\n",
       "      <td>0.0</td>\n",
       "      <td>1.18</td>\n",
       "      <td>0.00</td>\n",
       "    </tr>\n",
       "  </tbody>\n",
       "</table>\n",
       "</div>"
      ],
      "text/plain": [
       "           cum_transfers %  cum_transfers  cum_profit  mean_profit  \\\n",
       "abc_class                                                            \n",
       "A                     6.20            598     9122.14        15.25   \n",
       "B                     6.01            580     1713.29         2.95   \n",
       "C                    87.80           8474      571.85         0.07   \n",
       "\n",
       "           median_profit  mean_purchase_fee  median_purchase_fee  \n",
       "abc_class                                                         \n",
       "A                   10.8               3.45                 0.53  \n",
       "B                    2.7               1.64                 0.00  \n",
       "C                    0.0               1.18                 0.00  "
      ]
     },
     "execution_count": 1733,
     "metadata": {},
     "output_type": "execute_result"
    }
   ],
   "source": [
    "abc_table_total(sorted_df)"
   ]
  },
  {
   "cell_type": "markdown",
   "metadata": {},
   "source": [
    "---"
   ]
  },
  {
   "cell_type": "markdown",
   "metadata": {},
   "source": [
    "# Evaluate selected clubs"
   ]
  },
  {
   "cell_type": "markdown",
   "metadata": {},
   "source": [
    "After evaluating the entire dataset, we can now delve deeper into certain clubs and see if our findings replicate. Therefore, I will look at clubs who are well known for their successful recruitment strategies by sorting for the ten clubs who made the most profit."
   ]
  },
  {
   "cell_type": "code",
   "execution_count": 1734,
   "metadata": {},
   "outputs": [
    {
     "data": {
      "text/plain": [
       "club_name\n",
       "SL Benfica           642.231\n",
       "AS Monaco            531.315\n",
       "Ajax Amsterdam       405.770\n",
       "FC Porto             369.335\n",
       "Borussia Dortmund    354.550\n",
       "Liverpool FC         346.259\n",
       "LOSC Lille           321.920\n",
       "Chelsea FC           318.706\n",
       "Olympique Lyon       299.273\n",
       "Sporting CP          285.047\n",
       "Name: Profit, dtype: float64"
      ]
     },
     "execution_count": 1734,
     "metadata": {},
     "output_type": "execute_result"
    }
   ],
   "source": [
    "df_agg = sorted_df.groupby([\"club_name\"])[\"Profit\"].sum()\n",
    "df_agg.sort_values(ascending=False).head(10)"
   ]
  },
  {
   "cell_type": "code",
   "execution_count": 1735,
   "metadata": {},
   "outputs": [],
   "source": [
    "top_clubs = [\"Borussia Dortmund\", \"AS Monaco\", \"Liverpool FC\", \"Ajax Amsterdam\", \"SL Benfica\", \"FC Porto\", \"LOSC Lille\",\n",
    "        \"Chelsea FC\", \"Olympique Lyon\", \"Sporting CP\"]"
   ]
  },
  {
   "cell_type": "code",
   "execution_count": 1736,
   "metadata": {},
   "outputs": [],
   "source": [
    "# Write a function that cumulates the number of transfers and profits as well as assigns ABC classifications \n",
    "def abc_analysis(clubs, d={}):\n",
    "    \n",
    "    sorted_df = df_all.sort_values(by=\"Profit\", ascending=False)\n",
    "        \n",
    "    for club in clubs:\n",
    "                \n",
    "        d[club] = sorted_df[sorted_df[\"club_name\"] == club]\n",
    "        d[club] = d[club].reset_index()\n",
    "\n",
    "        #Cumulate number of transfers\n",
    "        d[club][\"ones\"] = 1\n",
    "        d[club][\"cumcount\"] = d[club][\"ones\"].cumsum()\n",
    "        d[club][\"cumcount%\"] = d[club][\"cumcount\"] / d[club][\"cumcount\"].max()*100\n",
    "\n",
    "        #Cumulate transfer profits \n",
    "        d[club][\"cumprofit\"] = d[club][\"Profit\"].cumsum()\n",
    "        d[club][\"profit%\"] = d[club][\"Profit\"] / d[club][\"Profit\"].sum()\n",
    "        d[club][\"cumprofit%\"] = d[club][\"profit%\"].cumsum()*100\n",
    "\n",
    "        #Assign ABC classification\n",
    "        d[club]['abc_class'] = d[club]['cumprofit%'].apply(classify)\n",
    "        d[club]['abc_rank'] = d[club]['cumprofit%'].rank().astype(int)"
   ]
  },
  {
   "cell_type": "code",
   "execution_count": 1737,
   "metadata": {},
   "outputs": [
    {
     "data": {
      "text/html": [
       "<div>\n",
       "<style scoped>\n",
       "    .dataframe tbody tr th:only-of-type {\n",
       "        vertical-align: middle;\n",
       "    }\n",
       "\n",
       "    .dataframe tbody tr th {\n",
       "        vertical-align: top;\n",
       "    }\n",
       "\n",
       "    .dataframe thead th {\n",
       "        text-align: right;\n",
       "    }\n",
       "</style>\n",
       "<table border=\"1\" class=\"dataframe\">\n",
       "  <thead>\n",
       "    <tr style=\"text-align: right;\">\n",
       "      <th></th>\n",
       "      <th>index</th>\n",
       "      <th>player_name</th>\n",
       "      <th>club_name</th>\n",
       "      <th>transfer_movement_in</th>\n",
       "      <th>league_name_in</th>\n",
       "      <th>fee_cleaned_in</th>\n",
       "      <th>transfer_movement_out</th>\n",
       "      <th>league_name_out</th>\n",
       "      <th>fee_cleaned_out</th>\n",
       "      <th>Profit</th>\n",
       "      <th>ones</th>\n",
       "      <th>cumcount</th>\n",
       "      <th>cumcount%</th>\n",
       "      <th>cumprofit</th>\n",
       "      <th>profit%</th>\n",
       "      <th>cumprofit%</th>\n",
       "      <th>abc_class</th>\n",
       "      <th>abc_rank</th>\n",
       "    </tr>\n",
       "  </thead>\n",
       "  <tbody>\n",
       "    <tr>\n",
       "      <th>0</th>\n",
       "      <td>4676</td>\n",
       "      <td>João Félix</td>\n",
       "      <td>SL Benfica</td>\n",
       "      <td>in</td>\n",
       "      <td>Liga Nos</td>\n",
       "      <td>0.0</td>\n",
       "      <td>out</td>\n",
       "      <td>Liga Nos</td>\n",
       "      <td>113.4</td>\n",
       "      <td>113.4</td>\n",
       "      <td>1</td>\n",
       "      <td>1</td>\n",
       "      <td>0.943396</td>\n",
       "      <td>113.4</td>\n",
       "      <td>0.176572</td>\n",
       "      <td>17.657198</td>\n",
       "      <td>A</td>\n",
       "      <td>1</td>\n",
       "    </tr>\n",
       "    <tr>\n",
       "      <th>1</th>\n",
       "      <td>8006</td>\n",
       "      <td>Rúben Dias</td>\n",
       "      <td>SL Benfica</td>\n",
       "      <td>in</td>\n",
       "      <td>Liga Nos</td>\n",
       "      <td>0.0</td>\n",
       "      <td>out</td>\n",
       "      <td>Liga Nos</td>\n",
       "      <td>61.2</td>\n",
       "      <td>61.2</td>\n",
       "      <td>1</td>\n",
       "      <td>2</td>\n",
       "      <td>1.886792</td>\n",
       "      <td>174.6</td>\n",
       "      <td>0.095293</td>\n",
       "      <td>27.186480</td>\n",
       "      <td>A</td>\n",
       "      <td>2</td>\n",
       "    </tr>\n",
       "  </tbody>\n",
       "</table>\n",
       "</div>"
      ],
      "text/plain": [
       "   index player_name   club_name transfer_movement_in league_name_in  \\\n",
       "0   4676  João Félix  SL Benfica                   in       Liga Nos   \n",
       "1   8006  Rúben Dias  SL Benfica                   in       Liga Nos   \n",
       "\n",
       "   fee_cleaned_in transfer_movement_out league_name_out  fee_cleaned_out  \\\n",
       "0             0.0                   out        Liga Nos            113.4   \n",
       "1             0.0                   out        Liga Nos             61.2   \n",
       "\n",
       "   Profit  ones  cumcount  cumcount%  cumprofit   profit%  cumprofit%  \\\n",
       "0   113.4     1         1   0.943396      113.4  0.176572   17.657198   \n",
       "1    61.2     1         2   1.886792      174.6  0.095293   27.186480   \n",
       "\n",
       "  abc_class  abc_rank  \n",
       "0         A         1  \n",
       "1         A         2  "
      ]
     },
     "execution_count": 1737,
     "metadata": {},
     "output_type": "execute_result"
    }
   ],
   "source": [
    "# Call function to conduct ABC analysis\n",
    "abc_analysis(top_clubs, d=d)\n",
    "d[\"SL Benfica\"].head(2)"
   ]
  },
  {
   "cell_type": "code",
   "execution_count": 1738,
   "metadata": {},
   "outputs": [],
   "source": [
    "# Write a function that creates charts for each individual team\n",
    "def create_graph_ind(d=d):\n",
    "    for key in d.keys():\n",
    "        fig, ax = plt.subplots(figsize = (5,3))\n",
    "        ax.plot(d[key][\"cumcount%\"], d[key][\"cumprofit%\"], marker=\"o\")\n",
    "        ax.plot(d[key][\"cumcount%\"], d[key][\"cumprofit%\"], marker=\"o\")\n",
    "        ax.set_ylabel(\"Cumulative transfer profits (in %)\")\n",
    "        ax.set_xlabel(\"Cumulative number of transfers (in %)\")\n",
    "        #ax.set_title(df[\"club_name\"])\n",
    "\n",
    "        ax2 = ax.twinx()\n",
    "        ax2.set_ylabel(\"Cumulative transfer profits (in %)\")\n",
    "\n",
    "        plt.show()"
   ]
  },
  {
   "cell_type": "code",
   "execution_count": 1739,
   "metadata": {},
   "outputs": [],
   "source": [
    "#create_graph_ind()"
   ]
  },
  {
   "cell_type": "code",
   "execution_count": 1740,
   "metadata": {},
   "outputs": [],
   "source": [
    "# Write a function that creates one chart for all clubs \n",
    "def create_graph_all(d=d):\n",
    "    fig, ax = plt.subplots(figsize = (10,6))\n",
    "    for key in d.keys():\n",
    "        ax.plot(d[key][\"cumcount%\"], d[key][\"cumprofit%\"], marker=\"o\")\n",
    "    ax.set_ylabel(\"Cumulative transfer profits (in %)\")\n",
    "    ax.set_xlabel(\"Cumulative number of transfers (in %)\")\n",
    "    ax.set_title(\"Transfer Profits vs. number of transfers\")\n",
    "    plt.legend(d)\n",
    "\n",
    "    plt.show()"
   ]
  },
  {
   "cell_type": "code",
   "execution_count": 1741,
   "metadata": {},
   "outputs": [
    {
     "data": {
      "image/png": "[encoded data removed]",
      "text/plain": [
       "<Figure size 720x432 with 1 Axes>"
      ]
     },
     "metadata": {
      "needs_background": "light"
     },
     "output_type": "display_data"
    }
   ],
   "source": [
    "create_graph_all()"
   ]
  },
  {
   "cell_type": "code",
   "execution_count": 1742,
   "metadata": {},
   "outputs": [],
   "source": [
    "# Write a function that creates a table to evaluate the most important numbers\n",
    "def abc_table(d, club):\n",
    "    abc_top = d[club].groupby('abc_class').agg(\n",
    "        cum_transfers=('cumcount%', \"count\"),\n",
    "        cum_profit=('Profit', sum),\n",
    "        mean_profit=(\"Profit\", \"mean\"),\n",
    "        median_profit=(\"Profit\", \"median\"),\n",
    "        mean_purchase_fee=(\"fee_cleaned_in\", \"mean\"),\n",
    "        median_purchase_fee=(\"fee_cleaned_in\", \"median\")\n",
    "    )\n",
    "    abc_top[\"cum_transfers %\"] = (abc_top[\"cum_transfers\"]/abc_top[\"cum_transfers\"].sum()*100).round(2)\n",
    "    cols=abc_top.columns.tolist()\n",
    "    cols = cols[-1:] + cols[:-1]\n",
    "    abc_top = abc_top[cols]\n",
    "\n",
    "    return abc_top.round(2)"
   ]
  },
  {
   "cell_type": "code",
   "execution_count": 1743,
   "metadata": {},
   "outputs": [
    {
     "data": {
      "text/html": [
       "<div>\n",
       "<style scoped>\n",
       "    .dataframe tbody tr th:only-of-type {\n",
       "        vertical-align: middle;\n",
       "    }\n",
       "\n",
       "    .dataframe tbody tr th {\n",
       "        vertical-align: top;\n",
       "    }\n",
       "\n",
       "    .dataframe thead th {\n",
       "        text-align: right;\n",
       "    }\n",
       "</style>\n",
       "<table border=\"1\" class=\"dataframe\">\n",
       "  <thead>\n",
       "    <tr style=\"text-align: right;\">\n",
       "      <th></th>\n",
       "      <th>cum_transfers %</th>\n",
       "      <th>cum_transfers</th>\n",
       "      <th>cum_profit</th>\n",
       "      <th>mean_profit</th>\n",
       "      <th>median_profit</th>\n",
       "      <th>mean_purchase_fee</th>\n",
       "      <th>median_purchase_fee</th>\n",
       "    </tr>\n",
       "    <tr>\n",
       "      <th>abc_class</th>\n",
       "      <th></th>\n",
       "      <th></th>\n",
       "      <th></th>\n",
       "      <th></th>\n",
       "      <th></th>\n",
       "      <th></th>\n",
       "      <th></th>\n",
       "    </tr>\n",
       "  </thead>\n",
       "  <tbody>\n",
       "    <tr>\n",
       "      <th>A</th>\n",
       "      <td>16.04</td>\n",
       "      <td>17</td>\n",
       "      <td>509.45</td>\n",
       "      <td>29.97</td>\n",
       "      <td>21.6</td>\n",
       "      <td>3.17</td>\n",
       "      <td>0.00</td>\n",
       "    </tr>\n",
       "    <tr>\n",
       "      <th>B</th>\n",
       "      <td>8.49</td>\n",
       "      <td>9</td>\n",
       "      <td>100.39</td>\n",
       "      <td>11.15</td>\n",
       "      <td>13.0</td>\n",
       "      <td>2.39</td>\n",
       "      <td>0.36</td>\n",
       "    </tr>\n",
       "    <tr>\n",
       "      <th>C</th>\n",
       "      <td>75.47</td>\n",
       "      <td>80</td>\n",
       "      <td>32.39</td>\n",
       "      <td>0.40</td>\n",
       "      <td>0.0</td>\n",
       "      <td>1.85</td>\n",
       "      <td>0.40</td>\n",
       "    </tr>\n",
       "  </tbody>\n",
       "</table>\n",
       "</div>"
      ],
      "text/plain": [
       "           cum_transfers %  cum_transfers  cum_profit  mean_profit  \\\n",
       "abc_class                                                            \n",
       "A                    16.04             17      509.45        29.97   \n",
       "B                     8.49              9      100.39        11.15   \n",
       "C                    75.47             80       32.39         0.40   \n",
       "\n",
       "           median_profit  mean_purchase_fee  median_purchase_fee  \n",
       "abc_class                                                         \n",
       "A                   21.6               3.17                 0.00  \n",
       "B                   13.0               2.39                 0.36  \n",
       "C                    0.0               1.85                 0.40  "
      ]
     },
     "execution_count": 1743,
     "metadata": {},
     "output_type": "execute_result"
    }
   ],
   "source": [
    "abc_table(d, \"SL Benfica\")"
   ]
  },
  {
   "cell_type": "code",
   "execution_count": 1744,
   "metadata": {},
   "outputs": [
    {
     "data": {
      "text/html": [
       "<div>\n",
       "<style scoped>\n",
       "    .dataframe tbody tr th:only-of-type {\n",
       "        vertical-align: middle;\n",
       "    }\n",
       "\n",
       "    .dataframe tbody tr th {\n",
       "        vertical-align: top;\n",
       "    }\n",
       "\n",
       "    .dataframe thead th {\n",
       "        text-align: right;\n",
       "    }\n",
       "</style>\n",
       "<table border=\"1\" class=\"dataframe\">\n",
       "  <thead>\n",
       "    <tr style=\"text-align: right;\">\n",
       "      <th></th>\n",
       "      <th>cum_transfers %</th>\n",
       "      <th>cum_transfers</th>\n",
       "      <th>cum_profit</th>\n",
       "      <th>mean_profit</th>\n",
       "      <th>median_profit</th>\n",
       "      <th>mean_purchase_fee</th>\n",
       "      <th>median_purchase_fee</th>\n",
       "    </tr>\n",
       "    <tr>\n",
       "      <th>abc_class</th>\n",
       "      <th></th>\n",
       "      <th></th>\n",
       "      <th></th>\n",
       "      <th></th>\n",
       "      <th></th>\n",
       "      <th></th>\n",
       "      <th></th>\n",
       "    </tr>\n",
       "  </thead>\n",
       "  <tbody>\n",
       "    <tr>\n",
       "      <th>A</th>\n",
       "      <td>11.69</td>\n",
       "      <td>9</td>\n",
       "      <td>316.31</td>\n",
       "      <td>35.15</td>\n",
       "      <td>26.28</td>\n",
       "      <td>1.88</td>\n",
       "      <td>0.0</td>\n",
       "    </tr>\n",
       "    <tr>\n",
       "      <th>B</th>\n",
       "      <td>11.69</td>\n",
       "      <td>9</td>\n",
       "      <td>68.85</td>\n",
       "      <td>7.65</td>\n",
       "      <td>6.59</td>\n",
       "      <td>1.65</td>\n",
       "      <td>0.0</td>\n",
       "    </tr>\n",
       "    <tr>\n",
       "      <th>C</th>\n",
       "      <td>76.62</td>\n",
       "      <td>59</td>\n",
       "      <td>20.61</td>\n",
       "      <td>0.35</td>\n",
       "      <td>0.00</td>\n",
       "      <td>1.46</td>\n",
       "      <td>0.0</td>\n",
       "    </tr>\n",
       "  </tbody>\n",
       "</table>\n",
       "</div>"
      ],
      "text/plain": [
       "           cum_transfers %  cum_transfers  cum_profit  mean_profit  \\\n",
       "abc_class                                                            \n",
       "A                    11.69              9      316.31        35.15   \n",
       "B                    11.69              9       68.85         7.65   \n",
       "C                    76.62             59       20.61         0.35   \n",
       "\n",
       "           median_profit  mean_purchase_fee  median_purchase_fee  \n",
       "abc_class                                                         \n",
       "A                  26.28               1.88                  0.0  \n",
       "B                   6.59               1.65                  0.0  \n",
       "C                   0.00               1.46                  0.0  "
      ]
     },
     "execution_count": 1744,
     "metadata": {},
     "output_type": "execute_result"
    }
   ],
   "source": [
    "abc_table(d, \"Ajax Amsterdam\")"
   ]
  },
  {
   "cell_type": "code",
   "execution_count": 1745,
   "metadata": {},
   "outputs": [
    {
     "data": {
      "text/html": [
       "<div>\n",
       "<style scoped>\n",
       "    .dataframe tbody tr th:only-of-type {\n",
       "        vertical-align: middle;\n",
       "    }\n",
       "\n",
       "    .dataframe tbody tr th {\n",
       "        vertical-align: top;\n",
       "    }\n",
       "\n",
       "    .dataframe thead th {\n",
       "        text-align: right;\n",
       "    }\n",
       "</style>\n",
       "<table border=\"1\" class=\"dataframe\">\n",
       "  <thead>\n",
       "    <tr style=\"text-align: right;\">\n",
       "      <th></th>\n",
       "      <th>cum_transfers %</th>\n",
       "      <th>cum_transfers</th>\n",
       "      <th>cum_profit</th>\n",
       "      <th>mean_profit</th>\n",
       "      <th>median_profit</th>\n",
       "      <th>mean_purchase_fee</th>\n",
       "      <th>median_purchase_fee</th>\n",
       "    </tr>\n",
       "    <tr>\n",
       "      <th>abc_class</th>\n",
       "      <th></th>\n",
       "      <th></th>\n",
       "      <th></th>\n",
       "      <th></th>\n",
       "      <th></th>\n",
       "      <th></th>\n",
       "      <th></th>\n",
       "    </tr>\n",
       "  </thead>\n",
       "  <tbody>\n",
       "    <tr>\n",
       "      <th>A</th>\n",
       "      <td>13.24</td>\n",
       "      <td>9</td>\n",
       "      <td>227.48</td>\n",
       "      <td>25.28</td>\n",
       "      <td>20.16</td>\n",
       "      <td>1.56</td>\n",
       "      <td>0.00</td>\n",
       "    </tr>\n",
       "    <tr>\n",
       "      <th>B</th>\n",
       "      <td>14.71</td>\n",
       "      <td>10</td>\n",
       "      <td>56.29</td>\n",
       "      <td>5.63</td>\n",
       "      <td>4.90</td>\n",
       "      <td>2.88</td>\n",
       "      <td>0.66</td>\n",
       "    </tr>\n",
       "    <tr>\n",
       "      <th>C</th>\n",
       "      <td>72.06</td>\n",
       "      <td>49</td>\n",
       "      <td>15.50</td>\n",
       "      <td>0.32</td>\n",
       "      <td>0.00</td>\n",
       "      <td>1.94</td>\n",
       "      <td>0.00</td>\n",
       "    </tr>\n",
       "  </tbody>\n",
       "</table>\n",
       "</div>"
      ],
      "text/plain": [
       "           cum_transfers %  cum_transfers  cum_profit  mean_profit  \\\n",
       "abc_class                                                            \n",
       "A                    13.24              9      227.48        25.28   \n",
       "B                    14.71             10       56.29         5.63   \n",
       "C                    72.06             49       15.50         0.32   \n",
       "\n",
       "           median_profit  mean_purchase_fee  median_purchase_fee  \n",
       "abc_class                                                         \n",
       "A                  20.16               1.56                 0.00  \n",
       "B                   4.90               2.88                 0.66  \n",
       "C                   0.00               1.94                 0.00  "
      ]
     },
     "execution_count": 1745,
     "metadata": {},
     "output_type": "execute_result"
    }
   ],
   "source": [
    "abc_table(d, \"Olympique Lyon\")"
   ]
  },
  {
   "cell_type": "markdown",
   "metadata": {},
   "source": [
    "### All selected clubs combined"
   ]
  },
  {
   "cell_type": "code",
   "execution_count": 1747,
   "metadata": {},
   "outputs": [],
   "source": [
    "# Sort the dataframe by profit and reset index\n",
    "df_top = df_top.sort_values(by=\"Profit\", ascending=False)\n",
    "#df_top = df_top.reset_index()\n",
    "\n",
    "# Cumulate number of transfers \n",
    "df_top[\"ones\"] = 1\n",
    "df_top[\"cumcount\"] = df_top[\"ones\"].cumsum()\n",
    "df_top[\"cumcount%\"] = (df_top[\"cumcount\"] / df_top[\"cumcount\"].max())*100\n",
    "\n",
    "df_top[\"cumprofit\"] = df_top[\"Profit\"].cumsum()\n",
    "df_top[\"profit%\"] = (df_top[\"Profit\"] / df_top[\"Profit\"].sum())*100\n",
    "df_top[\"cumprofit%\"] = df_top[\"profit%\"].cumsum()\n",
    "\n",
    "# Apply ABC function to classify\n",
    "df_top['abc_class'] = df_top['cumprofit%'].apply(classify)\n",
    "df_top['abc_rank'] = df_top['cumprofit%'].rank().astype(int)"
   ]
  },
  {
   "cell_type": "code",
   "execution_count": 1748,
   "metadata": {},
   "outputs": [
    {
     "data": {
      "image/png": "[encoded data removed]",
      "text/plain": [
       "<Figure size 720x432 with 1 Axes>"
      ]
     },
     "metadata": {
      "needs_background": "light"
     },
     "output_type": "display_data"
    }
   ],
   "source": [
    "# Call function to create chart\n",
    "create_graph_total(df_top, a=13.1)"
   ]
  },
  {
   "cell_type": "code",
   "execution_count": 1749,
   "metadata": {},
   "outputs": [
    {
     "data": {
      "text/html": [
       "<div>\n",
       "<style scoped>\n",
       "    .dataframe tbody tr th:only-of-type {\n",
       "        vertical-align: middle;\n",
       "    }\n",
       "\n",
       "    .dataframe tbody tr th {\n",
       "        vertical-align: top;\n",
       "    }\n",
       "\n",
       "    .dataframe thead th {\n",
       "        text-align: right;\n",
       "    }\n",
       "</style>\n",
       "<table border=\"1\" class=\"dataframe\">\n",
       "  <thead>\n",
       "    <tr style=\"text-align: right;\">\n",
       "      <th></th>\n",
       "      <th>cum_transfers %</th>\n",
       "      <th>cum_transfers</th>\n",
       "      <th>cum_profit</th>\n",
       "      <th>mean_profit</th>\n",
       "      <th>median_profit</th>\n",
       "      <th>mean_purchase_fee</th>\n",
       "      <th>median_purchase_fee</th>\n",
       "    </tr>\n",
       "    <tr>\n",
       "      <th>abc_class</th>\n",
       "      <th></th>\n",
       "      <th></th>\n",
       "      <th></th>\n",
       "      <th></th>\n",
       "      <th></th>\n",
       "      <th></th>\n",
       "      <th></th>\n",
       "    </tr>\n",
       "  </thead>\n",
       "  <tbody>\n",
       "    <tr>\n",
       "      <th>A</th>\n",
       "      <td>13.35</td>\n",
       "      <td>104</td>\n",
       "      <td>3087.52</td>\n",
       "      <td>29.69</td>\n",
       "      <td>20.61</td>\n",
       "      <td>6.10</td>\n",
       "      <td>2.43</td>\n",
       "    </tr>\n",
       "    <tr>\n",
       "      <th>B</th>\n",
       "      <td>11.17</td>\n",
       "      <td>87</td>\n",
       "      <td>590.65</td>\n",
       "      <td>6.79</td>\n",
       "      <td>6.30</td>\n",
       "      <td>3.73</td>\n",
       "      <td>0.68</td>\n",
       "    </tr>\n",
       "    <tr>\n",
       "      <th>C</th>\n",
       "      <td>75.48</td>\n",
       "      <td>588</td>\n",
       "      <td>196.23</td>\n",
       "      <td>0.33</td>\n",
       "      <td>0.00</td>\n",
       "      <td>3.16</td>\n",
       "      <td>0.43</td>\n",
       "    </tr>\n",
       "  </tbody>\n",
       "</table>\n",
       "</div>"
      ],
      "text/plain": [
       "           cum_transfers %  cum_transfers  cum_profit  mean_profit  \\\n",
       "abc_class                                                            \n",
       "A                    13.35            104     3087.52        29.69   \n",
       "B                    11.17             87      590.65         6.79   \n",
       "C                    75.48            588      196.23         0.33   \n",
       "\n",
       "           median_profit  mean_purchase_fee  median_purchase_fee  \n",
       "abc_class                                                         \n",
       "A                  20.61               6.10                 2.43  \n",
       "B                   6.30               3.73                 0.68  \n",
       "C                   0.00               3.16                 0.43  "
      ]
     },
     "execution_count": 1749,
     "metadata": {},
     "output_type": "execute_result"
    }
   ],
   "source": [
    "# Call function to create ABC table\n",
    "abc_table_total(df_top)"
   ]
  },
  {
   "cell_type": "markdown",
   "metadata": {},
   "source": [
    "---"
   ]
  },
  {
   "cell_type": "markdown",
   "metadata": {},
   "source": [
    "# Premier League"
   ]
  },
  {
   "cell_type": "code",
   "execution_count": 1750,
   "metadata": {},
   "outputs": [],
   "source": [
    "clubs1 = [\"Manchester United\", \"Manchester City\", \"Liverpool FC\", \"Chelsea FC\", \"Arsenal FC\", \"Tottenham Hotspurs\",\n",
    "         \"West Ham United\", \"Leicester City\", \"Brighton & Hove Albion\", \"Southampton FC\", 'Crystal Palace', 'Everton FC',\n",
    "         'Newcastle United', 'Aston Villa', \"Wolverhampton Wanderers\", 'Norwich City', 'Watford FC']"
   ]
  },
  {
   "cell_type": "code",
   "execution_count": 1751,
   "metadata": {},
   "outputs": [],
   "source": [
    "# Call function to create abc analysis\n",
    "x={}\n",
    "abc_analysis(clubs1, d=x)"
   ]
  },
  {
   "cell_type": "code",
   "execution_count": 1752,
   "metadata": {},
   "outputs": [
    {
     "data": {
      "text/html": [
       "<div>\n",
       "<style scoped>\n",
       "    .dataframe tbody tr th:only-of-type {\n",
       "        vertical-align: middle;\n",
       "    }\n",
       "\n",
       "    .dataframe tbody tr th {\n",
       "        vertical-align: top;\n",
       "    }\n",
       "\n",
       "    .dataframe thead th {\n",
       "        text-align: right;\n",
       "    }\n",
       "</style>\n",
       "<table border=\"1\" class=\"dataframe\">\n",
       "  <thead>\n",
       "    <tr style=\"text-align: right;\">\n",
       "      <th></th>\n",
       "      <th>index</th>\n",
       "      <th>player_name</th>\n",
       "      <th>club_name</th>\n",
       "      <th>transfer_movement_in</th>\n",
       "      <th>league_name_in</th>\n",
       "      <th>fee_cleaned_in</th>\n",
       "      <th>transfer_movement_out</th>\n",
       "      <th>league_name_out</th>\n",
       "      <th>fee_cleaned_out</th>\n",
       "      <th>Profit</th>\n",
       "      <th>ones</th>\n",
       "      <th>cumcount</th>\n",
       "      <th>cumcount%</th>\n",
       "      <th>cumprofit</th>\n",
       "      <th>profit%</th>\n",
       "      <th>cumprofit%</th>\n",
       "      <th>abc_class</th>\n",
       "      <th>abc_rank</th>\n",
       "    </tr>\n",
       "  </thead>\n",
       "  <tbody>\n",
       "    <tr>\n",
       "      <th>0</th>\n",
       "      <td>414</td>\n",
       "      <td>Alex Iwobi</td>\n",
       "      <td>Arsenal FC</td>\n",
       "      <td>in</td>\n",
       "      <td>Premier League</td>\n",
       "      <td>0.00</td>\n",
       "      <td>out</td>\n",
       "      <td>Premier League</td>\n",
       "      <td>27.36</td>\n",
       "      <td>27.36</td>\n",
       "      <td>1</td>\n",
       "      <td>1</td>\n",
       "      <td>1.923077</td>\n",
       "      <td>27.36</td>\n",
       "      <td>0.277063</td>\n",
       "      <td>27.706329</td>\n",
       "      <td>A</td>\n",
       "      <td>1</td>\n",
       "    </tr>\n",
       "    <tr>\n",
       "      <th>1</th>\n",
       "      <td>426</td>\n",
       "      <td>Alex Oxlade-Chamberlain</td>\n",
       "      <td>Arsenal FC</td>\n",
       "      <td>in</td>\n",
       "      <td>Premier League</td>\n",
       "      <td>12.42</td>\n",
       "      <td>out</td>\n",
       "      <td>Premier League</td>\n",
       "      <td>34.20</td>\n",
       "      <td>21.78</td>\n",
       "      <td>1</td>\n",
       "      <td>2</td>\n",
       "      <td>3.846154</td>\n",
       "      <td>49.14</td>\n",
       "      <td>0.220557</td>\n",
       "      <td>49.762025</td>\n",
       "      <td>A</td>\n",
       "      <td>2</td>\n",
       "    </tr>\n",
       "  </tbody>\n",
       "</table>\n",
       "</div>"
      ],
      "text/plain": [
       "   index              player_name   club_name transfer_movement_in  \\\n",
       "0    414               Alex Iwobi  Arsenal FC                   in   \n",
       "1    426  Alex Oxlade-Chamberlain  Arsenal FC                   in   \n",
       "\n",
       "   league_name_in  fee_cleaned_in transfer_movement_out league_name_out  \\\n",
       "0  Premier League            0.00                   out  Premier League   \n",
       "1  Premier League           12.42                   out  Premier League   \n",
       "\n",
       "   fee_cleaned_out  Profit  ones  cumcount  cumcount%  cumprofit   profit%  \\\n",
       "0            27.36   27.36     1         1   1.923077      27.36  0.277063   \n",
       "1            34.20   21.78     1         2   3.846154      49.14  0.220557   \n",
       "\n",
       "   cumprofit% abc_class  abc_rank  \n",
       "0   27.706329         A         1  \n",
       "1   49.762025         A         2  "
      ]
     },
     "execution_count": 1752,
     "metadata": {},
     "output_type": "execute_result"
    }
   ],
   "source": [
    "x[\"Arsenal FC\"].head(2)"
   ]
  },
  {
   "cell_type": "code",
   "execution_count": 1753,
   "metadata": {},
   "outputs": [
    {
     "data": {
      "image/png": "[encoded data removed]",
      "text/plain": [
       "<Figure size 720x432 with 1 Axes>"
      ]
     },
     "metadata": {
      "needs_background": "light"
     },
     "output_type": "display_data"
    }
   ],
   "source": [
    "# Call function to create a graph with all individual lines\n",
    "create_graph_all(d=x)"
   ]
  },
  {
   "cell_type": "code",
   "execution_count": 1754,
   "metadata": {},
   "outputs": [
    {
     "data": {
      "text/html": [
       "<div>\n",
       "<style scoped>\n",
       "    .dataframe tbody tr th:only-of-type {\n",
       "        vertical-align: middle;\n",
       "    }\n",
       "\n",
       "    .dataframe tbody tr th {\n",
       "        vertical-align: top;\n",
       "    }\n",
       "\n",
       "    .dataframe thead th {\n",
       "        text-align: right;\n",
       "    }\n",
       "</style>\n",
       "<table border=\"1\" class=\"dataframe\">\n",
       "  <thead>\n",
       "    <tr style=\"text-align: right;\">\n",
       "      <th></th>\n",
       "      <th>cum_transfers %</th>\n",
       "      <th>cum_transfers</th>\n",
       "      <th>cum_profit</th>\n",
       "      <th>mean_profit</th>\n",
       "      <th>median_profit</th>\n",
       "      <th>mean_purchase_fee</th>\n",
       "      <th>median_purchase_fee</th>\n",
       "    </tr>\n",
       "    <tr>\n",
       "      <th>abc_class</th>\n",
       "      <th></th>\n",
       "      <th></th>\n",
       "      <th></th>\n",
       "      <th></th>\n",
       "      <th></th>\n",
       "      <th></th>\n",
       "      <th></th>\n",
       "    </tr>\n",
       "  </thead>\n",
       "  <tbody>\n",
       "    <tr>\n",
       "      <th>A</th>\n",
       "      <td>1.28</td>\n",
       "      <td>1</td>\n",
       "      <td>33.93</td>\n",
       "      <td>33.93</td>\n",
       "      <td>33.93</td>\n",
       "      <td>7.92</td>\n",
       "      <td>7.92</td>\n",
       "    </tr>\n",
       "    <tr>\n",
       "      <th>B</th>\n",
       "      <td>2.56</td>\n",
       "      <td>2</td>\n",
       "      <td>8.82</td>\n",
       "      <td>4.41</td>\n",
       "      <td>4.41</td>\n",
       "      <td>0.00</td>\n",
       "      <td>0.00</td>\n",
       "    </tr>\n",
       "    <tr>\n",
       "      <th>C</th>\n",
       "      <td>96.15</td>\n",
       "      <td>75</td>\n",
       "      <td>4.11</td>\n",
       "      <td>0.05</td>\n",
       "      <td>0.00</td>\n",
       "      <td>3.14</td>\n",
       "      <td>2.07</td>\n",
       "    </tr>\n",
       "  </tbody>\n",
       "</table>\n",
       "</div>"
      ],
      "text/plain": [
       "           cum_transfers %  cum_transfers  cum_profit  mean_profit  \\\n",
       "abc_class                                                            \n",
       "A                     1.28              1       33.93        33.93   \n",
       "B                     2.56              2        8.82         4.41   \n",
       "C                    96.15             75        4.11         0.05   \n",
       "\n",
       "           median_profit  mean_purchase_fee  median_purchase_fee  \n",
       "abc_class                                                         \n",
       "A                  33.93               7.92                 7.92  \n",
       "B                   4.41               0.00                 0.00  \n",
       "C                   0.00               3.14                 2.07  "
      ]
     },
     "execution_count": 1754,
     "metadata": {},
     "output_type": "execute_result"
    }
   ],
   "source": [
    "# Call function to create ABC table for Aston Villa\n",
    "abc_table(x, \"Aston Villa\")"
   ]
  },
  {
   "cell_type": "markdown",
   "metadata": {},
   "source": [
    "### All Premier League clubs combined"
   ]
  },
  {
   "cell_type": "code",
   "execution_count": 1755,
   "metadata": {},
   "outputs": [],
   "source": [
    "# Create dataframe\n",
    "df_epl = df_all[df_all[\"club_name\"].isin(clubs1)]\n",
    "\n",
    "# Sort the dataframe by profit and reset index\n",
    "df_epl = df_epl.sort_values(by=\"Profit\", ascending=False)\n",
    "df_epl = df_epl.reset_index()\n",
    "\n",
    "# Cumulate number of transfers \n",
    "df_epl[\"ones\"] = 1\n",
    "df_epl[\"cumcount\"] = df_epl[\"ones\"].cumsum()\n",
    "df_epl[\"cumcount%\"] = (df_epl[\"cumcount\"] / df_epl[\"cumcount\"].max())*100\n",
    "\n",
    "df_epl[\"cumprofit\"] = df_epl[\"Profit\"].cumsum()\n",
    "df_epl[\"profit%\"] = (df_epl[\"Profit\"] / df_epl[\"Profit\"].sum())*100\n",
    "df_epl[\"cumprofit%\"] = df_epl[\"profit%\"].cumsum()\n",
    "\n",
    "# Apply ABC function to classify\n",
    "df_epl['abc_class'] = df_epl['cumprofit%'].apply(classify)\n",
    "df_epl['abc_rank'] = df_epl['cumprofit%'].rank().astype(int)"
   ]
  },
  {
   "cell_type": "code",
   "execution_count": 1757,
   "metadata": {},
   "outputs": [
    {
     "data": {
      "image/png": "[encoded data removed]",
      "text/plain": [
       "<Figure size 720x432 with 1 Axes>"
      ]
     },
     "metadata": {
      "needs_background": "light"
     },
     "output_type": "display_data"
    }
   ],
   "source": [
    "# Call function to create chart\n",
    "create_graph_total(df_epl, a=7.6)"
   ]
  },
  {
   "cell_type": "code",
   "execution_count": 1756,
   "metadata": {},
   "outputs": [
    {
     "data": {
      "text/html": [
       "<div>\n",
       "<style scoped>\n",
       "    .dataframe tbody tr th:only-of-type {\n",
       "        vertical-align: middle;\n",
       "    }\n",
       "\n",
       "    .dataframe tbody tr th {\n",
       "        vertical-align: top;\n",
       "    }\n",
       "\n",
       "    .dataframe thead th {\n",
       "        text-align: right;\n",
       "    }\n",
       "</style>\n",
       "<table border=\"1\" class=\"dataframe\">\n",
       "  <thead>\n",
       "    <tr style=\"text-align: right;\">\n",
       "      <th></th>\n",
       "      <th>cum_transfers %</th>\n",
       "      <th>cum_transfers</th>\n",
       "      <th>cum_profit</th>\n",
       "      <th>mean_profit</th>\n",
       "      <th>median_profit</th>\n",
       "      <th>mean_purchase_fee</th>\n",
       "      <th>median_purchase_fee</th>\n",
       "    </tr>\n",
       "    <tr>\n",
       "      <th>abc_class</th>\n",
       "      <th></th>\n",
       "      <th></th>\n",
       "      <th></th>\n",
       "      <th></th>\n",
       "      <th></th>\n",
       "      <th></th>\n",
       "      <th></th>\n",
       "    </tr>\n",
       "  </thead>\n",
       "  <tbody>\n",
       "    <tr>\n",
       "      <th>A</th>\n",
       "      <td>7.60</td>\n",
       "      <td>83</td>\n",
       "      <td>1842.16</td>\n",
       "      <td>22.19</td>\n",
       "      <td>15.3</td>\n",
       "      <td>5.78</td>\n",
       "      <td>1.62</td>\n",
       "    </tr>\n",
       "    <tr>\n",
       "      <th>B</th>\n",
       "      <td>6.87</td>\n",
       "      <td>75</td>\n",
       "      <td>350.87</td>\n",
       "      <td>4.68</td>\n",
       "      <td>4.5</td>\n",
       "      <td>3.83</td>\n",
       "      <td>0.76</td>\n",
       "    </tr>\n",
       "    <tr>\n",
       "      <th>C</th>\n",
       "      <td>85.53</td>\n",
       "      <td>934</td>\n",
       "      <td>115.68</td>\n",
       "      <td>0.12</td>\n",
       "      <td>0.0</td>\n",
       "      <td>4.03</td>\n",
       "      <td>0.07</td>\n",
       "    </tr>\n",
       "  </tbody>\n",
       "</table>\n",
       "</div>"
      ],
      "text/plain": [
       "           cum_transfers %  cum_transfers  cum_profit  mean_profit  \\\n",
       "abc_class                                                            \n",
       "A                     7.60             83     1842.16        22.19   \n",
       "B                     6.87             75      350.87         4.68   \n",
       "C                    85.53            934      115.68         0.12   \n",
       "\n",
       "           median_profit  mean_purchase_fee  median_purchase_fee  \n",
       "abc_class                                                         \n",
       "A                   15.3               5.78                 1.62  \n",
       "B                    4.5               3.83                 0.76  \n",
       "C                    0.0               4.03                 0.07  "
      ]
     },
     "execution_count": 1756,
     "metadata": {},
     "output_type": "execute_result"
    }
   ],
   "source": [
    "# Call function to create ABC table\n",
    "abc_table_total(df_epl)"
   ]
  }
 ],
 "metadata": {
  "kernelspec": {
   "display_name": "Python 3",
   "language": "python",
   "name": "python3"
  },
  "language_info": {
   "codemirror_mode": {
    "name": "ipython",
    "version": 3
   },
   "file_extension": ".py",
   "mimetype": "text/x-python",
   "name": "python",
   "nbconvert_exporter": "python",
   "pygments_lexer": "ipython3",
   "version": "3.7.4"
  }
 },
 "nbformat": 4,
 "nbformat_minor": 5
}
